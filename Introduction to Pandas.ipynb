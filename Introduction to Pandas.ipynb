{
 "cells": [
  {
   "cell_type": "markdown",
   "metadata": {},
   "source": [
    "Course Plan:\n",
    "\n",
    "1) intro to Jupyter: install, run cells, move cells, export, etc. ~5min\n",
    "\n",
    "2) import statements  ~1 min\n",
    "\n",
    "3) Creating Pandas DataFrame from an existing spreadsheet ~ 3min\n",
    "\n",
    "4) DataFrame index, accessing rows and columns, etc.  ~15 min\n",
    "\n",
    "5) Creating new columns, applying functions on columns:  ~ 15 min\n",
    "\n",
    "6) Type casting and working with dates  ~ 10min\n",
    "\n",
    "7) Group by operations and aggregation   ~ 20 min\n",
    "\n",
    "8) Boolean Selection  \n",
    "\n",
    "9) Plotting\n",
    "\n",
    "\n",
    "\n",
    "\n"
   ]
  },
  {
   "cell_type": "markdown",
   "metadata": {},
   "source": [
    "## The Dataframe\n",
    "The basic object we interact with in Pandas is the DataFrame (analogous to a spreadsheet)\n",
    "\n",
    "Another object we also interact with is the Series (analogous to a Column)"
   ]
  },
  {
   "cell_type": "markdown",
   "metadata": {
    "collapsed": true
   },
   "source": [
    "### 1 Creating a Pandas DataFrame from a file:"
   ]
  },
  {
   "cell_type": "code",
   "execution_count": 1,
   "metadata": {},
   "outputs": [],
   "source": [
    "import pandas as pd"
   ]
  },
  {
   "cell_type": "code",
   "execution_count": 2,
   "metadata": {},
   "outputs": [],
   "source": [
    "df = pd.read_csv(\"SPX - Historical.csv\")\n",
    "# could be file or URL"
   ]
  },
  {
   "cell_type": "code",
   "execution_count": 3,
   "metadata": {},
   "outputs": [
    {
     "data": {
      "text/html": [
       "<div>\n",
       "<style scoped>\n",
       "    .dataframe tbody tr th:only-of-type {\n",
       "        vertical-align: middle;\n",
       "    }\n",
       "\n",
       "    .dataframe tbody tr th {\n",
       "        vertical-align: top;\n",
       "    }\n",
       "\n",
       "    .dataframe thead th {\n",
       "        text-align: right;\n",
       "    }\n",
       "</style>\n",
       "<table border=\"1\" class=\"dataframe\">\n",
       "  <thead>\n",
       "    <tr style=\"text-align: right;\">\n",
       "      <th></th>\n",
       "      <th>Date</th>\n",
       "      <th>Open</th>\n",
       "      <th>High</th>\n",
       "      <th>Low</th>\n",
       "      <th>Close</th>\n",
       "      <th>Adj Close</th>\n",
       "      <th>Volume</th>\n",
       "    </tr>\n",
       "  </thead>\n",
       "  <tbody>\n",
       "    <tr>\n",
       "      <th>0</th>\n",
       "      <td>1998-05-26</td>\n",
       "      <td>1110.469971</td>\n",
       "      <td>1116.790039</td>\n",
       "      <td>1094.010010</td>\n",
       "      <td>1094.020020</td>\n",
       "      <td>1094.020020</td>\n",
       "      <td>541410000</td>\n",
       "    </tr>\n",
       "    <tr>\n",
       "      <th>1</th>\n",
       "      <td>1998-05-27</td>\n",
       "      <td>1094.020020</td>\n",
       "      <td>1094.439941</td>\n",
       "      <td>1074.390015</td>\n",
       "      <td>1092.229980</td>\n",
       "      <td>1092.229980</td>\n",
       "      <td>682040000</td>\n",
       "    </tr>\n",
       "    <tr>\n",
       "      <th>2</th>\n",
       "      <td>1998-05-28</td>\n",
       "      <td>1092.229980</td>\n",
       "      <td>1099.729980</td>\n",
       "      <td>1089.060059</td>\n",
       "      <td>1097.599976</td>\n",
       "      <td>1097.599976</td>\n",
       "      <td>588900000</td>\n",
       "    </tr>\n",
       "    <tr>\n",
       "      <th>3</th>\n",
       "      <td>1998-05-29</td>\n",
       "      <td>1097.599976</td>\n",
       "      <td>1104.160034</td>\n",
       "      <td>1090.819946</td>\n",
       "      <td>1090.819946</td>\n",
       "      <td>1090.819946</td>\n",
       "      <td>556780000</td>\n",
       "    </tr>\n",
       "    <tr>\n",
       "      <th>4</th>\n",
       "      <td>1998-06-01</td>\n",
       "      <td>1090.819946</td>\n",
       "      <td>1097.849976</td>\n",
       "      <td>1084.219971</td>\n",
       "      <td>1090.979980</td>\n",
       "      <td>1090.979980</td>\n",
       "      <td>537660000</td>\n",
       "    </tr>\n",
       "    <tr>\n",
       "      <th>...</th>\n",
       "      <td>...</td>\n",
       "      <td>...</td>\n",
       "      <td>...</td>\n",
       "      <td>...</td>\n",
       "      <td>...</td>\n",
       "      <td>...</td>\n",
       "      <td>...</td>\n",
       "    </tr>\n",
       "    <tr>\n",
       "      <th>5280</th>\n",
       "      <td>2019-05-20</td>\n",
       "      <td>2841.939941</td>\n",
       "      <td>2853.860107</td>\n",
       "      <td>2831.290039</td>\n",
       "      <td>2840.229980</td>\n",
       "      <td>2840.229980</td>\n",
       "      <td>3288870000</td>\n",
       "    </tr>\n",
       "    <tr>\n",
       "      <th>5281</th>\n",
       "      <td>2019-05-21</td>\n",
       "      <td>2854.020020</td>\n",
       "      <td>2868.879883</td>\n",
       "      <td>2854.020020</td>\n",
       "      <td>2864.360107</td>\n",
       "      <td>2864.360107</td>\n",
       "      <td>3218700000</td>\n",
       "    </tr>\n",
       "    <tr>\n",
       "      <th>5282</th>\n",
       "      <td>2019-05-22</td>\n",
       "      <td>2856.060059</td>\n",
       "      <td>2865.469971</td>\n",
       "      <td>2851.110107</td>\n",
       "      <td>2856.270020</td>\n",
       "      <td>2856.270020</td>\n",
       "      <td>3192510000</td>\n",
       "    </tr>\n",
       "    <tr>\n",
       "      <th>5283</th>\n",
       "      <td>2019-05-23</td>\n",
       "      <td>2836.699951</td>\n",
       "      <td>2836.699951</td>\n",
       "      <td>2805.489990</td>\n",
       "      <td>2822.239990</td>\n",
       "      <td>2822.239990</td>\n",
       "      <td>3891980000</td>\n",
       "    </tr>\n",
       "    <tr>\n",
       "      <th>5284</th>\n",
       "      <td>2019-05-24</td>\n",
       "      <td>2832.409912</td>\n",
       "      <td>2841.360107</td>\n",
       "      <td>2820.189941</td>\n",
       "      <td>2826.060059</td>\n",
       "      <td>2826.060059</td>\n",
       "      <td>2887390000</td>\n",
       "    </tr>\n",
       "  </tbody>\n",
       "</table>\n",
       "<p>5285 rows × 7 columns</p>\n",
       "</div>"
      ],
      "text/plain": [
       "            Date         Open         High          Low        Close  \\\n",
       "0     1998-05-26  1110.469971  1116.790039  1094.010010  1094.020020   \n",
       "1     1998-05-27  1094.020020  1094.439941  1074.390015  1092.229980   \n",
       "2     1998-05-28  1092.229980  1099.729980  1089.060059  1097.599976   \n",
       "3     1998-05-29  1097.599976  1104.160034  1090.819946  1090.819946   \n",
       "4     1998-06-01  1090.819946  1097.849976  1084.219971  1090.979980   \n",
       "...          ...          ...          ...          ...          ...   \n",
       "5280  2019-05-20  2841.939941  2853.860107  2831.290039  2840.229980   \n",
       "5281  2019-05-21  2854.020020  2868.879883  2854.020020  2864.360107   \n",
       "5282  2019-05-22  2856.060059  2865.469971  2851.110107  2856.270020   \n",
       "5283  2019-05-23  2836.699951  2836.699951  2805.489990  2822.239990   \n",
       "5284  2019-05-24  2832.409912  2841.360107  2820.189941  2826.060059   \n",
       "\n",
       "        Adj Close      Volume  \n",
       "0     1094.020020   541410000  \n",
       "1     1092.229980   682040000  \n",
       "2     1097.599976   588900000  \n",
       "3     1090.819946   556780000  \n",
       "4     1090.979980   537660000  \n",
       "...           ...         ...  \n",
       "5280  2840.229980  3288870000  \n",
       "5281  2864.360107  3218700000  \n",
       "5282  2856.270020  3192510000  \n",
       "5283  2822.239990  3891980000  \n",
       "5284  2826.060059  2887390000  \n",
       "\n",
       "[5285 rows x 7 columns]"
      ]
     },
     "execution_count": 3,
     "metadata": {},
     "output_type": "execute_result"
    }
   ],
   "source": [
    "df"
   ]
  },
  {
   "cell_type": "code",
   "execution_count": 4,
   "metadata": {},
   "outputs": [
    {
     "data": {
      "text/plain": [
       "(5285, 7)"
      ]
     },
     "execution_count": 4,
     "metadata": {},
     "output_type": "execute_result"
    }
   ],
   "source": [
    "df.shape"
   ]
  },
  {
   "cell_type": "code",
   "execution_count": 5,
   "metadata": {},
   "outputs": [
    {
     "data": {
      "text/html": [
       "<div>\n",
       "<style scoped>\n",
       "    .dataframe tbody tr th:only-of-type {\n",
       "        vertical-align: middle;\n",
       "    }\n",
       "\n",
       "    .dataframe tbody tr th {\n",
       "        vertical-align: top;\n",
       "    }\n",
       "\n",
       "    .dataframe thead th {\n",
       "        text-align: right;\n",
       "    }\n",
       "</style>\n",
       "<table border=\"1\" class=\"dataframe\">\n",
       "  <thead>\n",
       "    <tr style=\"text-align: right;\">\n",
       "      <th></th>\n",
       "      <th>Date</th>\n",
       "      <th>Open</th>\n",
       "      <th>High</th>\n",
       "      <th>Low</th>\n",
       "      <th>Close</th>\n",
       "      <th>Adj Close</th>\n",
       "      <th>Volume</th>\n",
       "    </tr>\n",
       "  </thead>\n",
       "  <tbody>\n",
       "    <tr>\n",
       "      <th>0</th>\n",
       "      <td>1998-05-26</td>\n",
       "      <td>1110.469971</td>\n",
       "      <td>1116.790039</td>\n",
       "      <td>1094.010010</td>\n",
       "      <td>1094.020020</td>\n",
       "      <td>1094.020020</td>\n",
       "      <td>541410000</td>\n",
       "    </tr>\n",
       "    <tr>\n",
       "      <th>1</th>\n",
       "      <td>1998-05-27</td>\n",
       "      <td>1094.020020</td>\n",
       "      <td>1094.439941</td>\n",
       "      <td>1074.390015</td>\n",
       "      <td>1092.229980</td>\n",
       "      <td>1092.229980</td>\n",
       "      <td>682040000</td>\n",
       "    </tr>\n",
       "    <tr>\n",
       "      <th>2</th>\n",
       "      <td>1998-05-28</td>\n",
       "      <td>1092.229980</td>\n",
       "      <td>1099.729980</td>\n",
       "      <td>1089.060059</td>\n",
       "      <td>1097.599976</td>\n",
       "      <td>1097.599976</td>\n",
       "      <td>588900000</td>\n",
       "    </tr>\n",
       "    <tr>\n",
       "      <th>3</th>\n",
       "      <td>1998-05-29</td>\n",
       "      <td>1097.599976</td>\n",
       "      <td>1104.160034</td>\n",
       "      <td>1090.819946</td>\n",
       "      <td>1090.819946</td>\n",
       "      <td>1090.819946</td>\n",
       "      <td>556780000</td>\n",
       "    </tr>\n",
       "    <tr>\n",
       "      <th>4</th>\n",
       "      <td>1998-06-01</td>\n",
       "      <td>1090.819946</td>\n",
       "      <td>1097.849976</td>\n",
       "      <td>1084.219971</td>\n",
       "      <td>1090.979980</td>\n",
       "      <td>1090.979980</td>\n",
       "      <td>537660000</td>\n",
       "    </tr>\n",
       "  </tbody>\n",
       "</table>\n",
       "</div>"
      ],
      "text/plain": [
       "         Date         Open         High          Low        Close  \\\n",
       "0  1998-05-26  1110.469971  1116.790039  1094.010010  1094.020020   \n",
       "1  1998-05-27  1094.020020  1094.439941  1074.390015  1092.229980   \n",
       "2  1998-05-28  1092.229980  1099.729980  1089.060059  1097.599976   \n",
       "3  1998-05-29  1097.599976  1104.160034  1090.819946  1090.819946   \n",
       "4  1998-06-01  1090.819946  1097.849976  1084.219971  1090.979980   \n",
       "\n",
       "     Adj Close     Volume  \n",
       "0  1094.020020  541410000  \n",
       "1  1092.229980  682040000  \n",
       "2  1097.599976  588900000  \n",
       "3  1090.819946  556780000  \n",
       "4  1090.979980  537660000  "
      ]
     },
     "execution_count": 5,
     "metadata": {},
     "output_type": "execute_result"
    }
   ],
   "source": [
    "df.head()"
   ]
  },
  {
   "cell_type": "code",
   "execution_count": null,
   "metadata": {},
   "outputs": [],
   "source": [
    "df.head(20)"
   ]
  },
  {
   "cell_type": "code",
   "execution_count": null,
   "metadata": {
    "scrolled": true
   },
   "outputs": [],
   "source": [
    "df.tail(10)"
   ]
  },
  {
   "cell_type": "markdown",
   "metadata": {},
   "source": [
    "Present Other methods of opening a file:\n",
    "\n",
    "pd.read_excel()\n",
    "\n",
    "#present the following parameters:\n",
    "\n",
    "sheet_name, header, index_col, na_values, true_values, false_values\n",
    "\n",
    "https://pandas.pydata.org/pandas-docs/stable/reference/api/pandas.read_excel.html"
   ]
  },
  {
   "cell_type": "markdown",
   "metadata": {},
   "source": [
    "### 2 Accessing rows and columns:\n"
   ]
  },
  {
   "cell_type": "code",
   "execution_count": 6,
   "metadata": {},
   "outputs": [
    {
     "data": {
      "text/plain": [
       "0       1110.469971\n",
       "1       1094.020020\n",
       "2       1092.229980\n",
       "3       1097.599976\n",
       "4       1090.819946\n",
       "           ...     \n",
       "5280    2841.939941\n",
       "5281    2854.020020\n",
       "5282    2856.060059\n",
       "5283    2836.699951\n",
       "5284    2832.409912\n",
       "Name: Open, Length: 5285, dtype: float64"
      ]
     },
     "execution_count": 6,
     "metadata": {},
     "output_type": "execute_result"
    }
   ],
   "source": [
    "df[\"Open\"]"
   ]
  },
  {
   "cell_type": "markdown",
   "metadata": {},
   "source": [
    "Columns can also be accessed as attributes of the dataframe:\n",
    "Note:this only works if the column names are legal python identifier\n",
    "(no spaces and no punctuation other than `_`.)"
   ]
  },
  {
   "cell_type": "code",
   "execution_count": 7,
   "metadata": {},
   "outputs": [
    {
     "data": {
      "text/plain": [
       "count    5285.000000\n",
       "mean     1508.338967\n",
       "std       522.983997\n",
       "min       679.280029\n",
       "25%      1144.109985\n",
       "50%      1330.969971\n",
       "75%      1842.969971\n",
       "max      2952.330078\n",
       "Name: Open, dtype: float64"
      ]
     },
     "execution_count": 7,
     "metadata": {},
     "output_type": "execute_result"
    }
   ],
   "source": [
    "df[\"Open\"].describe()"
   ]
  },
  {
   "cell_type": "code",
   "execution_count": 8,
   "metadata": {},
   "outputs": [
    {
     "data": {
      "text/plain": [
       "count    5285.000000\n",
       "mean     1508.575173\n",
       "std       523.059143\n",
       "min       676.530029\n",
       "0%        676.530029\n",
       "10%      1003.389990\n",
       "20%      1114.246020\n",
       "30%      1183.715967\n",
       "40%      1262.530029\n",
       "50%      1331.069946\n",
       "60%      1411.186011\n",
       "70%      1541.187988\n",
       "80%      2012.153980\n",
       "90%      2374.845996\n",
       "100%     2945.830078\n",
       "max      2945.830078\n",
       "Name: Close, dtype: float64"
      ]
     },
     "execution_count": 8,
     "metadata": {},
     "output_type": "execute_result"
    }
   ],
   "source": [
    "df[\"Close\"].describe(percentiles=[0, 0.1, 0.2, 0.3, 0.4, \n",
    "                                   0.5, 0.6, 0.7, 0.8, 0.9,\n",
    "                                   1.0])"
   ]
  },
  {
   "cell_type": "code",
   "execution_count": null,
   "metadata": {},
   "outputs": [],
   "source": [
    "type(df[\"Open\"])\n",
    "# Point out that each column in a df is a series object"
   ]
  },
  {
   "cell_type": "code",
   "execution_count": null,
   "metadata": {},
   "outputs": [],
   "source": [
    "# accessing rows, by position\n",
    "df.iloc[0:3]"
   ]
  },
  {
   "cell_type": "code",
   "execution_count": null,
   "metadata": {},
   "outputs": [],
   "source": [
    "df.iloc[0:5]\n",
    "# point out that python range doesn't include the end index. \n",
    "# (n:m) only includes up to m-1 "
   ]
  },
  {
   "cell_type": "markdown",
   "metadata": {},
   "source": [
    "In addition to accessing rows by position (using iloc()) , we can also access rows by index using loc()\n",
    "\n",
    "If no index is specified when opening the file, loc reverts to using position."
   ]
  },
  {
   "cell_type": "code",
   "execution_count": null,
   "metadata": {},
   "outputs": [],
   "source": [
    "df.loc[\"1998-05-26\":\"1998-06-01\", [\"Open\", \"High\"]]"
   ]
  },
  {
   "cell_type": "code",
   "execution_count": null,
   "metadata": {},
   "outputs": [],
   "source": [
    "df.iloc[0:5, [2,3]]"
   ]
  },
  {
   "cell_type": "markdown",
   "metadata": {},
   "source": [
    "Let's specify date as an index explain the meaning of parameters\n",
    "explain that they are default parameters."
   ]
  },
  {
   "cell_type": "code",
   "execution_count": 9,
   "metadata": {},
   "outputs": [],
   "source": [
    "df.set_index(\"Date\", drop=False, inplace=True, verify_integrity=True)"
   ]
  },
  {
   "cell_type": "code",
   "execution_count": 10,
   "metadata": {},
   "outputs": [
    {
     "data": {
      "text/html": [
       "<div>\n",
       "<style scoped>\n",
       "    .dataframe tbody tr th:only-of-type {\n",
       "        vertical-align: middle;\n",
       "    }\n",
       "\n",
       "    .dataframe tbody tr th {\n",
       "        vertical-align: top;\n",
       "    }\n",
       "\n",
       "    .dataframe thead th {\n",
       "        text-align: right;\n",
       "    }\n",
       "</style>\n",
       "<table border=\"1\" class=\"dataframe\">\n",
       "  <thead>\n",
       "    <tr style=\"text-align: right;\">\n",
       "      <th></th>\n",
       "      <th>Date</th>\n",
       "      <th>Open</th>\n",
       "      <th>High</th>\n",
       "      <th>Low</th>\n",
       "      <th>Close</th>\n",
       "      <th>Adj Close</th>\n",
       "      <th>Volume</th>\n",
       "    </tr>\n",
       "    <tr>\n",
       "      <th>Date</th>\n",
       "      <th></th>\n",
       "      <th></th>\n",
       "      <th></th>\n",
       "      <th></th>\n",
       "      <th></th>\n",
       "      <th></th>\n",
       "      <th></th>\n",
       "    </tr>\n",
       "  </thead>\n",
       "  <tbody>\n",
       "    <tr>\n",
       "      <th>1998-05-26</th>\n",
       "      <td>1998-05-26</td>\n",
       "      <td>1110.469971</td>\n",
       "      <td>1116.790039</td>\n",
       "      <td>1094.010010</td>\n",
       "      <td>1094.020020</td>\n",
       "      <td>1094.020020</td>\n",
       "      <td>541410000</td>\n",
       "    </tr>\n",
       "    <tr>\n",
       "      <th>1998-05-27</th>\n",
       "      <td>1998-05-27</td>\n",
       "      <td>1094.020020</td>\n",
       "      <td>1094.439941</td>\n",
       "      <td>1074.390015</td>\n",
       "      <td>1092.229980</td>\n",
       "      <td>1092.229980</td>\n",
       "      <td>682040000</td>\n",
       "    </tr>\n",
       "    <tr>\n",
       "      <th>1998-05-28</th>\n",
       "      <td>1998-05-28</td>\n",
       "      <td>1092.229980</td>\n",
       "      <td>1099.729980</td>\n",
       "      <td>1089.060059</td>\n",
       "      <td>1097.599976</td>\n",
       "      <td>1097.599976</td>\n",
       "      <td>588900000</td>\n",
       "    </tr>\n",
       "    <tr>\n",
       "      <th>1998-05-29</th>\n",
       "      <td>1998-05-29</td>\n",
       "      <td>1097.599976</td>\n",
       "      <td>1104.160034</td>\n",
       "      <td>1090.819946</td>\n",
       "      <td>1090.819946</td>\n",
       "      <td>1090.819946</td>\n",
       "      <td>556780000</td>\n",
       "    </tr>\n",
       "    <tr>\n",
       "      <th>1998-06-01</th>\n",
       "      <td>1998-06-01</td>\n",
       "      <td>1090.819946</td>\n",
       "      <td>1097.849976</td>\n",
       "      <td>1084.219971</td>\n",
       "      <td>1090.979980</td>\n",
       "      <td>1090.979980</td>\n",
       "      <td>537660000</td>\n",
       "    </tr>\n",
       "    <tr>\n",
       "      <th>...</th>\n",
       "      <td>...</td>\n",
       "      <td>...</td>\n",
       "      <td>...</td>\n",
       "      <td>...</td>\n",
       "      <td>...</td>\n",
       "      <td>...</td>\n",
       "      <td>...</td>\n",
       "    </tr>\n",
       "    <tr>\n",
       "      <th>2019-05-20</th>\n",
       "      <td>2019-05-20</td>\n",
       "      <td>2841.939941</td>\n",
       "      <td>2853.860107</td>\n",
       "      <td>2831.290039</td>\n",
       "      <td>2840.229980</td>\n",
       "      <td>2840.229980</td>\n",
       "      <td>3288870000</td>\n",
       "    </tr>\n",
       "    <tr>\n",
       "      <th>2019-05-21</th>\n",
       "      <td>2019-05-21</td>\n",
       "      <td>2854.020020</td>\n",
       "      <td>2868.879883</td>\n",
       "      <td>2854.020020</td>\n",
       "      <td>2864.360107</td>\n",
       "      <td>2864.360107</td>\n",
       "      <td>3218700000</td>\n",
       "    </tr>\n",
       "    <tr>\n",
       "      <th>2019-05-22</th>\n",
       "      <td>2019-05-22</td>\n",
       "      <td>2856.060059</td>\n",
       "      <td>2865.469971</td>\n",
       "      <td>2851.110107</td>\n",
       "      <td>2856.270020</td>\n",
       "      <td>2856.270020</td>\n",
       "      <td>3192510000</td>\n",
       "    </tr>\n",
       "    <tr>\n",
       "      <th>2019-05-23</th>\n",
       "      <td>2019-05-23</td>\n",
       "      <td>2836.699951</td>\n",
       "      <td>2836.699951</td>\n",
       "      <td>2805.489990</td>\n",
       "      <td>2822.239990</td>\n",
       "      <td>2822.239990</td>\n",
       "      <td>3891980000</td>\n",
       "    </tr>\n",
       "    <tr>\n",
       "      <th>2019-05-24</th>\n",
       "      <td>2019-05-24</td>\n",
       "      <td>2832.409912</td>\n",
       "      <td>2841.360107</td>\n",
       "      <td>2820.189941</td>\n",
       "      <td>2826.060059</td>\n",
       "      <td>2826.060059</td>\n",
       "      <td>2887390000</td>\n",
       "    </tr>\n",
       "  </tbody>\n",
       "</table>\n",
       "<p>5285 rows × 7 columns</p>\n",
       "</div>"
      ],
      "text/plain": [
       "                  Date         Open         High          Low        Close  \\\n",
       "Date                                                                         \n",
       "1998-05-26  1998-05-26  1110.469971  1116.790039  1094.010010  1094.020020   \n",
       "1998-05-27  1998-05-27  1094.020020  1094.439941  1074.390015  1092.229980   \n",
       "1998-05-28  1998-05-28  1092.229980  1099.729980  1089.060059  1097.599976   \n",
       "1998-05-29  1998-05-29  1097.599976  1104.160034  1090.819946  1090.819946   \n",
       "1998-06-01  1998-06-01  1090.819946  1097.849976  1084.219971  1090.979980   \n",
       "...                ...          ...          ...          ...          ...   \n",
       "2019-05-20  2019-05-20  2841.939941  2853.860107  2831.290039  2840.229980   \n",
       "2019-05-21  2019-05-21  2854.020020  2868.879883  2854.020020  2864.360107   \n",
       "2019-05-22  2019-05-22  2856.060059  2865.469971  2851.110107  2856.270020   \n",
       "2019-05-23  2019-05-23  2836.699951  2836.699951  2805.489990  2822.239990   \n",
       "2019-05-24  2019-05-24  2832.409912  2841.360107  2820.189941  2826.060059   \n",
       "\n",
       "              Adj Close      Volume  \n",
       "Date                                 \n",
       "1998-05-26  1094.020020   541410000  \n",
       "1998-05-27  1092.229980   682040000  \n",
       "1998-05-28  1097.599976   588900000  \n",
       "1998-05-29  1090.819946   556780000  \n",
       "1998-06-01  1090.979980   537660000  \n",
       "...                 ...         ...  \n",
       "2019-05-20  2840.229980  3288870000  \n",
       "2019-05-21  2864.360107  3218700000  \n",
       "2019-05-22  2856.270020  3192510000  \n",
       "2019-05-23  2822.239990  3891980000  \n",
       "2019-05-24  2826.060059  2887390000  \n",
       "\n",
       "[5285 rows x 7 columns]"
      ]
     },
     "execution_count": 10,
     "metadata": {},
     "output_type": "execute_result"
    }
   ],
   "source": [
    "df"
   ]
  },
  {
   "cell_type": "markdown",
   "metadata": {},
   "source": [
    "So now `loc` no longer works with positions."
   ]
  },
  {
   "cell_type": "code",
   "execution_count": null,
   "metadata": {},
   "outputs": [],
   "source": [
    "df.loc[0:5]"
   ]
  },
  {
   "cell_type": "markdown",
   "metadata": {},
   "source": [
    "Now `loc` takes index values:"
   ]
  },
  {
   "cell_type": "code",
   "execution_count": null,
   "metadata": {},
   "outputs": [],
   "source": [
    "df.loc[\"1998-05-26\"]"
   ]
  },
  {
   "cell_type": "code",
   "execution_count": null,
   "metadata": {},
   "outputs": [],
   "source": [
    "df.loc[\"1998-05-26\"]"
   ]
  },
  {
   "cell_type": "code",
   "execution_count": null,
   "metadata": {},
   "outputs": [],
   "source": [
    "df.loc[\"1998-05-26\"]"
   ]
  },
  {
   "cell_type": "code",
   "execution_count": null,
   "metadata": {},
   "outputs": [],
   "source": [
    "df.loc[\"1998-05-26\":\"1998-06-07\"]"
   ]
  },
  {
   "cell_type": "markdown",
   "metadata": {},
   "source": [
    "We can still access by rows and columns using iloc:"
   ]
  },
  {
   "cell_type": "code",
   "execution_count": null,
   "metadata": {},
   "outputs": [],
   "source": [
    "\n",
    "df.iloc[0:10, 2:4 ]"
   ]
  },
  {
   "cell_type": "code",
   "execution_count": null,
   "metadata": {
    "scrolled": true
   },
   "outputs": [],
   "source": [
    "# by labels:\n",
    "df[\"1998-05-26\":\"1998-06-07\"][\"High\"].describe()"
   ]
  },
  {
   "cell_type": "code",
   "execution_count": null,
   "metadata": {
    "scrolled": true
   },
   "outputs": [],
   "source": [
    "df.loc[\"1998-05-26\":\"1998-06-07\"][[\"High\",\"Low\"]]\n",
    "#note that column labels are in a list"
   ]
  },
  {
   "cell_type": "markdown",
   "metadata": {},
   "source": [
    "#### In summary:\n",
    "- Rows and columns can be picked by labels or by positions.\n",
    "- When picking by labels, labels can be applied to df directly: df[label],  df[rowlabel][columnlabel], df[columnlabel][rowlabel]\n",
    "- `iloc` is used for selecting by position\n",
    "- Positions can be specified individually, as a slice object (2:8), or a list of integers.\n",
    "- The same is true for row labels. column labels can be individual values or lists, but no slices"
   ]
  },
  {
   "cell_type": "markdown",
   "metadata": {},
   "source": [
    "## 3. Adding and Dropping Columns"
   ]
  },
  {
   "cell_type": "markdown",
   "metadata": {},
   "source": [
    "Adding a new column:\n",
    "Any list that has the same length as the dataframe can be made into a new column."
   ]
  },
  {
   "cell_type": "code",
   "execution_count": 14,
   "metadata": {},
   "outputs": [],
   "source": [
    "df[\"Change\"] = [5] * len(df)"
   ]
  },
  {
   "cell_type": "code",
   "execution_count": 15,
   "metadata": {},
   "outputs": [
    {
     "data": {
      "text/html": [
       "<div>\n",
       "<style scoped>\n",
       "    .dataframe tbody tr th:only-of-type {\n",
       "        vertical-align: middle;\n",
       "    }\n",
       "\n",
       "    .dataframe tbody tr th {\n",
       "        vertical-align: top;\n",
       "    }\n",
       "\n",
       "    .dataframe thead th {\n",
       "        text-align: right;\n",
       "    }\n",
       "</style>\n",
       "<table border=\"1\" class=\"dataframe\">\n",
       "  <thead>\n",
       "    <tr style=\"text-align: right;\">\n",
       "      <th></th>\n",
       "      <th>Date</th>\n",
       "      <th>Open</th>\n",
       "      <th>High</th>\n",
       "      <th>Low</th>\n",
       "      <th>Close</th>\n",
       "      <th>Adj Close</th>\n",
       "      <th>Volume</th>\n",
       "      <th>Change</th>\n",
       "    </tr>\n",
       "    <tr>\n",
       "      <th>Date</th>\n",
       "      <th></th>\n",
       "      <th></th>\n",
       "      <th></th>\n",
       "      <th></th>\n",
       "      <th></th>\n",
       "      <th></th>\n",
       "      <th></th>\n",
       "      <th></th>\n",
       "    </tr>\n",
       "  </thead>\n",
       "  <tbody>\n",
       "    <tr>\n",
       "      <th>1998-05-26</th>\n",
       "      <td>1998-05-26</td>\n",
       "      <td>1110.469971</td>\n",
       "      <td>1116.790039</td>\n",
       "      <td>1094.010010</td>\n",
       "      <td>1094.020020</td>\n",
       "      <td>1094.020020</td>\n",
       "      <td>541410000</td>\n",
       "      <td>5</td>\n",
       "    </tr>\n",
       "    <tr>\n",
       "      <th>1998-05-27</th>\n",
       "      <td>1998-05-27</td>\n",
       "      <td>1094.020020</td>\n",
       "      <td>1094.439941</td>\n",
       "      <td>1074.390015</td>\n",
       "      <td>1092.229980</td>\n",
       "      <td>1092.229980</td>\n",
       "      <td>682040000</td>\n",
       "      <td>5</td>\n",
       "    </tr>\n",
       "    <tr>\n",
       "      <th>1998-05-28</th>\n",
       "      <td>1998-05-28</td>\n",
       "      <td>1092.229980</td>\n",
       "      <td>1099.729980</td>\n",
       "      <td>1089.060059</td>\n",
       "      <td>1097.599976</td>\n",
       "      <td>1097.599976</td>\n",
       "      <td>588900000</td>\n",
       "      <td>5</td>\n",
       "    </tr>\n",
       "    <tr>\n",
       "      <th>1998-05-29</th>\n",
       "      <td>1998-05-29</td>\n",
       "      <td>1097.599976</td>\n",
       "      <td>1104.160034</td>\n",
       "      <td>1090.819946</td>\n",
       "      <td>1090.819946</td>\n",
       "      <td>1090.819946</td>\n",
       "      <td>556780000</td>\n",
       "      <td>5</td>\n",
       "    </tr>\n",
       "    <tr>\n",
       "      <th>1998-06-01</th>\n",
       "      <td>1998-06-01</td>\n",
       "      <td>1090.819946</td>\n",
       "      <td>1097.849976</td>\n",
       "      <td>1084.219971</td>\n",
       "      <td>1090.979980</td>\n",
       "      <td>1090.979980</td>\n",
       "      <td>537660000</td>\n",
       "      <td>5</td>\n",
       "    </tr>\n",
       "  </tbody>\n",
       "</table>\n",
       "</div>"
      ],
      "text/plain": [
       "                  Date         Open         High          Low        Close  \\\n",
       "Date                                                                         \n",
       "1998-05-26  1998-05-26  1110.469971  1116.790039  1094.010010  1094.020020   \n",
       "1998-05-27  1998-05-27  1094.020020  1094.439941  1074.390015  1092.229980   \n",
       "1998-05-28  1998-05-28  1092.229980  1099.729980  1089.060059  1097.599976   \n",
       "1998-05-29  1998-05-29  1097.599976  1104.160034  1090.819946  1090.819946   \n",
       "1998-06-01  1998-06-01  1090.819946  1097.849976  1084.219971  1090.979980   \n",
       "\n",
       "              Adj Close     Volume  Change  \n",
       "Date                                        \n",
       "1998-05-26  1094.020020  541410000       5  \n",
       "1998-05-27  1092.229980  682040000       5  \n",
       "1998-05-28  1097.599976  588900000       5  \n",
       "1998-05-29  1090.819946  556780000       5  \n",
       "1998-06-01  1090.979980  537660000       5  "
      ]
     },
     "execution_count": 15,
     "metadata": {},
     "output_type": "execute_result"
    }
   ],
   "source": [
    "df.head()"
   ]
  },
  {
   "cell_type": "markdown",
   "metadata": {},
   "source": [
    "Removing columns is a bit more involved:\n",
    "\n",
    "`axis=1` tells pandas that we are deleting a column not a row.\n",
    "\n",
    "`inplace=True` tells pandas to modify the current df, not return a new one.\n",
    "\n",
    "(If not specified, the default is false and pandas will return a modified df that should be stored somewhere - show example without inplace.)\n",
    "\n"
   ]
  },
  {
   "cell_type": "code",
   "execution_count": null,
   "metadata": {},
   "outputs": [],
   "source": [
    "df.drop(\"Change\", axis=1,  inplace=True)\n",
    "df.head()"
   ]
  },
  {
   "cell_type": "markdown",
   "metadata": {},
   "source": [
    "Of course, we would like to do something more useful.\n",
    "That usually means the new column is a result from operating on existing columns.\n",
    "E.g. Let's add a column that records the difference between the index's closing value and the index opening value:"
   ]
  },
  {
   "cell_type": "code",
   "execution_count": null,
   "metadata": {},
   "outputs": [],
   "source": [
    "df[\"Change_from_Open\"] = df[\"Close\"] - df[\"Open\"]\n",
    "df.head()"
   ]
  },
  {
   "cell_type": "markdown",
   "metadata": {},
   "source": [
    "What if we want to create a column based on comparing each row\n",
    "with the previous row. e.g. for each day, calculate the change between\n",
    "the day's close and the previous day close?\n",
    "\n",
    "We can use the function \"shift\" to do this:"
   ]
  },
  {
   "cell_type": "code",
   "execution_count": null,
   "metadata": {},
   "outputs": [],
   "source": [
    "df[\"Open\"].shift(3)\n",
    "#try also shift(-3), etc.\n",
    "\n",
    "# Note that this is mot changing the series/column, just returning a new one\n"
   ]
  },
  {
   "cell_type": "markdown",
   "metadata": {},
   "source": [
    "We can now use this to calculate the change between close and previous close:"
   ]
  },
  {
   "cell_type": "code",
   "execution_count": null,
   "metadata": {},
   "outputs": [],
   "source": [
    "\n",
    "df[\"Change_from_Prev_Close\"] = df.Close - df.Close.shift(1)\n",
    "df.head()"
   ]
  },
  {
   "cell_type": "markdown",
   "metadata": {},
   "source": [
    "Let's calculate change from previous close in percentage. \n",
    "\n",
    "We can do this in a couple of ways:"
   ]
  },
  {
   "cell_type": "code",
   "execution_count": null,
   "metadata": {},
   "outputs": [],
   "source": [
    "df[\"Change_from_prev_percentage\"] = ((df[\"Close\"] - df[\"Close\"].shift(1)) * 100)/df[\"Close\"].shift(1)\n",
    "\n",
    "# And then we may want to round the result:\n",
    "df[\"Change_from_prev_percentage\"] = round(df[\"Change_from_prev_percentage\"], 2)\n",
    "\n",
    "df.head(10)"
   ]
  },
  {
   "cell_type": "code",
   "execution_count": null,
   "metadata": {},
   "outputs": [],
   "source": [
    "# But, instead of having one long formula on one line we can also define our own function:\n",
    "\n",
    "def calc_percentage_one_day(df):\n",
    "    close = df[\"Close\"]\n",
    "    prev_close = df[\"Close\"].shift(1)\n",
    "    change_abs = close - prev_close\n",
    "    change_percentage = (change_abs/prev_close) * 100\n",
    "    change_percentage = round(change_percentage, 1)\n",
    "    return change_percentage\n",
    "\n",
    "\n",
    "# And now, we can create the new column by just calling the function:\n",
    "\n",
    "df[\"Change_from_prev_percentage\"] = calc_percentage_one_day(df)\n",
    "\n",
    "df.head()\n"
   ]
  },
  {
   "cell_type": "markdown",
   "metadata": {},
   "source": [
    "## 4. Type Casting and Working with Dates"
   ]
  },
  {
   "cell_type": "markdown",
   "metadata": {},
   "source": [
    "In most cases, the types of the values (strings, ints, etc. ) will be parsed correctly. In some cases, we may need to explicitly change the type: very common with dates. Let's look at our data again; we kept the Date column for a reason! (`type()` is a built-in python function to check the type.)"
   ]
  },
  {
   "cell_type": "code",
   "execution_count": 16,
   "metadata": {},
   "outputs": [
    {
     "data": {
      "text/plain": [
       "str"
      ]
     },
     "execution_count": 16,
     "metadata": {},
     "output_type": "execute_result"
    }
   ],
   "source": [
    "type(df[\"Date\"][0])"
   ]
  },
  {
   "cell_type": "markdown",
   "metadata": {},
   "source": [
    "We can typecast those strings to Datetime stamps.\n",
    "This should allow us to reference the month, the weekday, etc.:"
   ]
  },
  {
   "cell_type": "code",
   "execution_count": 23,
   "metadata": {},
   "outputs": [
    {
     "data": {
      "text/html": [
       "<div>\n",
       "<style scoped>\n",
       "    .dataframe tbody tr th:only-of-type {\n",
       "        vertical-align: middle;\n",
       "    }\n",
       "\n",
       "    .dataframe tbody tr th {\n",
       "        vertical-align: top;\n",
       "    }\n",
       "\n",
       "    .dataframe thead th {\n",
       "        text-align: right;\n",
       "    }\n",
       "</style>\n",
       "<table border=\"1\" class=\"dataframe\">\n",
       "  <thead>\n",
       "    <tr style=\"text-align: right;\">\n",
       "      <th></th>\n",
       "      <th>Date</th>\n",
       "      <th>Open</th>\n",
       "      <th>High</th>\n",
       "      <th>Low</th>\n",
       "      <th>Close</th>\n",
       "      <th>Adj Close</th>\n",
       "      <th>Volume</th>\n",
       "      <th>Change</th>\n",
       "    </tr>\n",
       "    <tr>\n",
       "      <th>Date</th>\n",
       "      <th></th>\n",
       "      <th></th>\n",
       "      <th></th>\n",
       "      <th></th>\n",
       "      <th></th>\n",
       "      <th></th>\n",
       "      <th></th>\n",
       "      <th></th>\n",
       "    </tr>\n",
       "  </thead>\n",
       "  <tbody>\n",
       "    <tr>\n",
       "      <th>1998-05-26</th>\n",
       "      <td>1998-05-26</td>\n",
       "      <td>1110.469971</td>\n",
       "      <td>1116.790039</td>\n",
       "      <td>1094.010010</td>\n",
       "      <td>1094.020020</td>\n",
       "      <td>1094.020020</td>\n",
       "      <td>541410000</td>\n",
       "      <td>5</td>\n",
       "    </tr>\n",
       "    <tr>\n",
       "      <th>1998-05-27</th>\n",
       "      <td>1998-05-27</td>\n",
       "      <td>1094.020020</td>\n",
       "      <td>1094.439941</td>\n",
       "      <td>1074.390015</td>\n",
       "      <td>1092.229980</td>\n",
       "      <td>1092.229980</td>\n",
       "      <td>682040000</td>\n",
       "      <td>5</td>\n",
       "    </tr>\n",
       "    <tr>\n",
       "      <th>1998-05-28</th>\n",
       "      <td>1998-05-28</td>\n",
       "      <td>1092.229980</td>\n",
       "      <td>1099.729980</td>\n",
       "      <td>1089.060059</td>\n",
       "      <td>1097.599976</td>\n",
       "      <td>1097.599976</td>\n",
       "      <td>588900000</td>\n",
       "      <td>5</td>\n",
       "    </tr>\n",
       "    <tr>\n",
       "      <th>1998-05-29</th>\n",
       "      <td>1998-05-29</td>\n",
       "      <td>1097.599976</td>\n",
       "      <td>1104.160034</td>\n",
       "      <td>1090.819946</td>\n",
       "      <td>1090.819946</td>\n",
       "      <td>1090.819946</td>\n",
       "      <td>556780000</td>\n",
       "      <td>5</td>\n",
       "    </tr>\n",
       "    <tr>\n",
       "      <th>1998-06-01</th>\n",
       "      <td>1998-06-01</td>\n",
       "      <td>1090.819946</td>\n",
       "      <td>1097.849976</td>\n",
       "      <td>1084.219971</td>\n",
       "      <td>1090.979980</td>\n",
       "      <td>1090.979980</td>\n",
       "      <td>537660000</td>\n",
       "      <td>5</td>\n",
       "    </tr>\n",
       "  </tbody>\n",
       "</table>\n",
       "</div>"
      ],
      "text/plain": [
       "                 Date         Open         High          Low        Close  \\\n",
       "Date                                                                        \n",
       "1998-05-26 1998-05-26  1110.469971  1116.790039  1094.010010  1094.020020   \n",
       "1998-05-27 1998-05-27  1094.020020  1094.439941  1074.390015  1092.229980   \n",
       "1998-05-28 1998-05-28  1092.229980  1099.729980  1089.060059  1097.599976   \n",
       "1998-05-29 1998-05-29  1097.599976  1104.160034  1090.819946  1090.819946   \n",
       "1998-06-01 1998-06-01  1090.819946  1097.849976  1084.219971  1090.979980   \n",
       "\n",
       "              Adj Close     Volume  Change  \n",
       "Date                                        \n",
       "1998-05-26  1094.020020  541410000       5  \n",
       "1998-05-27  1092.229980  682040000       5  \n",
       "1998-05-28  1097.599976  588900000       5  \n",
       "1998-05-29  1090.819946  556780000       5  \n",
       "1998-06-01  1090.979980  537660000       5  "
      ]
     },
     "execution_count": 23,
     "metadata": {},
     "output_type": "execute_result"
    }
   ],
   "source": [
    "df[\"Date\"] = pd.to_datetime(df[\"Date\"])\n",
    "df.head()"
   ]
  },
  {
   "cell_type": "code",
   "execution_count": 20,
   "metadata": {},
   "outputs": [
    {
     "data": {
      "text/plain": [
       "Timestamp('1998-05-26 00:00:00')"
      ]
     },
     "execution_count": 20,
     "metadata": {},
     "output_type": "execute_result"
    }
   ],
   "source": [
    "# Let's check\n",
    "df[\"Date\"][0]"
   ]
  },
  {
   "cell_type": "code",
   "execution_count": 24,
   "metadata": {},
   "outputs": [
    {
     "data": {
      "text/html": [
       "<div>\n",
       "<style scoped>\n",
       "    .dataframe tbody tr th:only-of-type {\n",
       "        vertical-align: middle;\n",
       "    }\n",
       "\n",
       "    .dataframe tbody tr th {\n",
       "        vertical-align: top;\n",
       "    }\n",
       "\n",
       "    .dataframe thead th {\n",
       "        text-align: right;\n",
       "    }\n",
       "</style>\n",
       "<table border=\"1\" class=\"dataframe\">\n",
       "  <thead>\n",
       "    <tr style=\"text-align: right;\">\n",
       "      <th></th>\n",
       "      <th>Date</th>\n",
       "      <th>Open</th>\n",
       "      <th>High</th>\n",
       "      <th>Low</th>\n",
       "      <th>Close</th>\n",
       "      <th>Adj Close</th>\n",
       "      <th>Volume</th>\n",
       "      <th>Change</th>\n",
       "      <th>DayOfWeek</th>\n",
       "    </tr>\n",
       "    <tr>\n",
       "      <th>Date</th>\n",
       "      <th></th>\n",
       "      <th></th>\n",
       "      <th></th>\n",
       "      <th></th>\n",
       "      <th></th>\n",
       "      <th></th>\n",
       "      <th></th>\n",
       "      <th></th>\n",
       "      <th></th>\n",
       "    </tr>\n",
       "  </thead>\n",
       "  <tbody>\n",
       "    <tr>\n",
       "      <th>1998-05-26</th>\n",
       "      <td>1998-05-26</td>\n",
       "      <td>1110.469971</td>\n",
       "      <td>1116.790039</td>\n",
       "      <td>1094.010010</td>\n",
       "      <td>1094.020020</td>\n",
       "      <td>1094.020020</td>\n",
       "      <td>541410000</td>\n",
       "      <td>5</td>\n",
       "      <td>Tuesday</td>\n",
       "    </tr>\n",
       "    <tr>\n",
       "      <th>1998-05-27</th>\n",
       "      <td>1998-05-27</td>\n",
       "      <td>1094.020020</td>\n",
       "      <td>1094.439941</td>\n",
       "      <td>1074.390015</td>\n",
       "      <td>1092.229980</td>\n",
       "      <td>1092.229980</td>\n",
       "      <td>682040000</td>\n",
       "      <td>5</td>\n",
       "      <td>Tuesday</td>\n",
       "    </tr>\n",
       "    <tr>\n",
       "      <th>1998-05-28</th>\n",
       "      <td>1998-05-28</td>\n",
       "      <td>1092.229980</td>\n",
       "      <td>1099.729980</td>\n",
       "      <td>1089.060059</td>\n",
       "      <td>1097.599976</td>\n",
       "      <td>1097.599976</td>\n",
       "      <td>588900000</td>\n",
       "      <td>5</td>\n",
       "      <td>Tuesday</td>\n",
       "    </tr>\n",
       "    <tr>\n",
       "      <th>1998-05-29</th>\n",
       "      <td>1998-05-29</td>\n",
       "      <td>1097.599976</td>\n",
       "      <td>1104.160034</td>\n",
       "      <td>1090.819946</td>\n",
       "      <td>1090.819946</td>\n",
       "      <td>1090.819946</td>\n",
       "      <td>556780000</td>\n",
       "      <td>5</td>\n",
       "      <td>Tuesday</td>\n",
       "    </tr>\n",
       "    <tr>\n",
       "      <th>1998-06-01</th>\n",
       "      <td>1998-06-01</td>\n",
       "      <td>1090.819946</td>\n",
       "      <td>1097.849976</td>\n",
       "      <td>1084.219971</td>\n",
       "      <td>1090.979980</td>\n",
       "      <td>1090.979980</td>\n",
       "      <td>537660000</td>\n",
       "      <td>5</td>\n",
       "      <td>Tuesday</td>\n",
       "    </tr>\n",
       "    <tr>\n",
       "      <th>1998-06-02</th>\n",
       "      <td>1998-06-02</td>\n",
       "      <td>1090.979980</td>\n",
       "      <td>1098.709961</td>\n",
       "      <td>1089.670044</td>\n",
       "      <td>1093.219971</td>\n",
       "      <td>1093.219971</td>\n",
       "      <td>590930000</td>\n",
       "      <td>5</td>\n",
       "      <td>Tuesday</td>\n",
       "    </tr>\n",
       "    <tr>\n",
       "      <th>1998-06-03</th>\n",
       "      <td>1998-06-03</td>\n",
       "      <td>1093.219971</td>\n",
       "      <td>1097.430054</td>\n",
       "      <td>1081.089966</td>\n",
       "      <td>1082.729980</td>\n",
       "      <td>1082.729980</td>\n",
       "      <td>584480000</td>\n",
       "      <td>5</td>\n",
       "      <td>Tuesday</td>\n",
       "    </tr>\n",
       "    <tr>\n",
       "      <th>1998-06-04</th>\n",
       "      <td>1998-06-04</td>\n",
       "      <td>1082.729980</td>\n",
       "      <td>1095.930054</td>\n",
       "      <td>1078.099976</td>\n",
       "      <td>1094.829956</td>\n",
       "      <td>1094.829956</td>\n",
       "      <td>577470000</td>\n",
       "      <td>5</td>\n",
       "      <td>Tuesday</td>\n",
       "    </tr>\n",
       "    <tr>\n",
       "      <th>1998-06-05</th>\n",
       "      <td>1998-06-05</td>\n",
       "      <td>1095.099976</td>\n",
       "      <td>1113.880005</td>\n",
       "      <td>1094.829956</td>\n",
       "      <td>1113.859985</td>\n",
       "      <td>1113.859985</td>\n",
       "      <td>558440000</td>\n",
       "      <td>5</td>\n",
       "      <td>Tuesday</td>\n",
       "    </tr>\n",
       "    <tr>\n",
       "      <th>1998-06-08</th>\n",
       "      <td>1998-06-08</td>\n",
       "      <td>1113.859985</td>\n",
       "      <td>1119.699951</td>\n",
       "      <td>1113.310059</td>\n",
       "      <td>1115.719971</td>\n",
       "      <td>1115.719971</td>\n",
       "      <td>543390000</td>\n",
       "      <td>5</td>\n",
       "      <td>Tuesday</td>\n",
       "    </tr>\n",
       "  </tbody>\n",
       "</table>\n",
       "</div>"
      ],
      "text/plain": [
       "                 Date         Open         High          Low        Close  \\\n",
       "Date                                                                        \n",
       "1998-05-26 1998-05-26  1110.469971  1116.790039  1094.010010  1094.020020   \n",
       "1998-05-27 1998-05-27  1094.020020  1094.439941  1074.390015  1092.229980   \n",
       "1998-05-28 1998-05-28  1092.229980  1099.729980  1089.060059  1097.599976   \n",
       "1998-05-29 1998-05-29  1097.599976  1104.160034  1090.819946  1090.819946   \n",
       "1998-06-01 1998-06-01  1090.819946  1097.849976  1084.219971  1090.979980   \n",
       "1998-06-02 1998-06-02  1090.979980  1098.709961  1089.670044  1093.219971   \n",
       "1998-06-03 1998-06-03  1093.219971  1097.430054  1081.089966  1082.729980   \n",
       "1998-06-04 1998-06-04  1082.729980  1095.930054  1078.099976  1094.829956   \n",
       "1998-06-05 1998-06-05  1095.099976  1113.880005  1094.829956  1113.859985   \n",
       "1998-06-08 1998-06-08  1113.859985  1119.699951  1113.310059  1115.719971   \n",
       "\n",
       "              Adj Close     Volume  Change DayOfWeek  \n",
       "Date                                                  \n",
       "1998-05-26  1094.020020  541410000       5   Tuesday  \n",
       "1998-05-27  1092.229980  682040000       5   Tuesday  \n",
       "1998-05-28  1097.599976  588900000       5   Tuesday  \n",
       "1998-05-29  1090.819946  556780000       5   Tuesday  \n",
       "1998-06-01  1090.979980  537660000       5   Tuesday  \n",
       "1998-06-02  1093.219971  590930000       5   Tuesday  \n",
       "1998-06-03  1082.729980  584480000       5   Tuesday  \n",
       "1998-06-04  1094.829956  577470000       5   Tuesday  \n",
       "1998-06-05  1113.859985  558440000       5   Tuesday  \n",
       "1998-06-08  1115.719971  543390000       5   Tuesday  "
      ]
     },
     "execution_count": 24,
     "metadata": {},
     "output_type": "execute_result"
    }
   ],
   "source": [
    "df[\"DayOfWeek\"] = df[\"Date\"][0].day_name()\n",
    "\n",
    "df.head(10)"
   ]
  },
  {
   "cell_type": "markdown",
   "metadata": {},
   "source": [
    "Let's add month name and quarter:"
   ]
  },
  {
   "cell_type": "code",
   "execution_count": null,
   "metadata": {},
   "outputs": [],
   "source": [
    "\n",
    "# Note how some of these are functions (callable, ending with ()), and some are attribute values\n",
    "df[\"Month\"] = df[\"Date\"].dt.month_name()\n",
    "df[\"Quarter\"] = df[\"Date\"].dt.quarter\n",
    "df.head(10)"
   ]
  },
  {
   "cell_type": "markdown",
   "metadata": {},
   "source": [
    "### Changing order of Columns "
   ]
  },
  {
   "cell_type": "code",
   "execution_count": 25,
   "metadata": {},
   "outputs": [
    {
     "name": "stdout",
     "output_type": "stream",
     "text": [
      "Index(['Date', 'Open', 'High', 'Low', 'Close', 'Adj Close', 'Volume', 'Change',\n",
      "       'DayOfWeek'],\n",
      "      dtype='object')\n"
     ]
    }
   ],
   "source": [
    "curr_columns = df.columns\n",
    "\n",
    "print(curr_columns)"
   ]
  },
  {
   "cell_type": "code",
   "execution_count": 26,
   "metadata": {},
   "outputs": [
    {
     "data": {
      "text/html": [
       "<div>\n",
       "<style scoped>\n",
       "    .dataframe tbody tr th:only-of-type {\n",
       "        vertical-align: middle;\n",
       "    }\n",
       "\n",
       "    .dataframe tbody tr th {\n",
       "        vertical-align: top;\n",
       "    }\n",
       "\n",
       "    .dataframe thead th {\n",
       "        text-align: right;\n",
       "    }\n",
       "</style>\n",
       "<table border=\"1\" class=\"dataframe\">\n",
       "  <thead>\n",
       "    <tr style=\"text-align: right;\">\n",
       "      <th></th>\n",
       "      <th>Date</th>\n",
       "      <th>DayOfWeek</th>\n",
       "      <th>Month</th>\n",
       "      <th>Quarter</th>\n",
       "      <th>Open</th>\n",
       "      <th>High</th>\n",
       "      <th>Low</th>\n",
       "      <th>Close</th>\n",
       "      <th>Adj Close</th>\n",
       "      <th>Volume</th>\n",
       "      <th>Change_from_Open</th>\n",
       "      <th>Change_from_Prev_Close</th>\n",
       "      <th>Change_from_prev_percentage</th>\n",
       "    </tr>\n",
       "    <tr>\n",
       "      <th>Date</th>\n",
       "      <th></th>\n",
       "      <th></th>\n",
       "      <th></th>\n",
       "      <th></th>\n",
       "      <th></th>\n",
       "      <th></th>\n",
       "      <th></th>\n",
       "      <th></th>\n",
       "      <th></th>\n",
       "      <th></th>\n",
       "      <th></th>\n",
       "      <th></th>\n",
       "      <th></th>\n",
       "    </tr>\n",
       "  </thead>\n",
       "  <tbody>\n",
       "    <tr>\n",
       "      <th>1998-05-26</th>\n",
       "      <td>1998-05-26</td>\n",
       "      <td>Tuesday</td>\n",
       "      <td>NaN</td>\n",
       "      <td>NaN</td>\n",
       "      <td>1110.469971</td>\n",
       "      <td>1116.790039</td>\n",
       "      <td>1094.010010</td>\n",
       "      <td>1094.020020</td>\n",
       "      <td>1094.020020</td>\n",
       "      <td>541410000</td>\n",
       "      <td>NaN</td>\n",
       "      <td>NaN</td>\n",
       "      <td>NaN</td>\n",
       "    </tr>\n",
       "    <tr>\n",
       "      <th>1998-05-27</th>\n",
       "      <td>1998-05-27</td>\n",
       "      <td>Tuesday</td>\n",
       "      <td>NaN</td>\n",
       "      <td>NaN</td>\n",
       "      <td>1094.020020</td>\n",
       "      <td>1094.439941</td>\n",
       "      <td>1074.390015</td>\n",
       "      <td>1092.229980</td>\n",
       "      <td>1092.229980</td>\n",
       "      <td>682040000</td>\n",
       "      <td>NaN</td>\n",
       "      <td>NaN</td>\n",
       "      <td>NaN</td>\n",
       "    </tr>\n",
       "    <tr>\n",
       "      <th>1998-05-28</th>\n",
       "      <td>1998-05-28</td>\n",
       "      <td>Tuesday</td>\n",
       "      <td>NaN</td>\n",
       "      <td>NaN</td>\n",
       "      <td>1092.229980</td>\n",
       "      <td>1099.729980</td>\n",
       "      <td>1089.060059</td>\n",
       "      <td>1097.599976</td>\n",
       "      <td>1097.599976</td>\n",
       "      <td>588900000</td>\n",
       "      <td>NaN</td>\n",
       "      <td>NaN</td>\n",
       "      <td>NaN</td>\n",
       "    </tr>\n",
       "    <tr>\n",
       "      <th>1998-05-29</th>\n",
       "      <td>1998-05-29</td>\n",
       "      <td>Tuesday</td>\n",
       "      <td>NaN</td>\n",
       "      <td>NaN</td>\n",
       "      <td>1097.599976</td>\n",
       "      <td>1104.160034</td>\n",
       "      <td>1090.819946</td>\n",
       "      <td>1090.819946</td>\n",
       "      <td>1090.819946</td>\n",
       "      <td>556780000</td>\n",
       "      <td>NaN</td>\n",
       "      <td>NaN</td>\n",
       "      <td>NaN</td>\n",
       "    </tr>\n",
       "    <tr>\n",
       "      <th>1998-06-01</th>\n",
       "      <td>1998-06-01</td>\n",
       "      <td>Tuesday</td>\n",
       "      <td>NaN</td>\n",
       "      <td>NaN</td>\n",
       "      <td>1090.819946</td>\n",
       "      <td>1097.849976</td>\n",
       "      <td>1084.219971</td>\n",
       "      <td>1090.979980</td>\n",
       "      <td>1090.979980</td>\n",
       "      <td>537660000</td>\n",
       "      <td>NaN</td>\n",
       "      <td>NaN</td>\n",
       "      <td>NaN</td>\n",
       "    </tr>\n",
       "  </tbody>\n",
       "</table>\n",
       "</div>"
      ],
      "text/plain": [
       "                 Date DayOfWeek  Month  Quarter         Open         High  \\\n",
       "Date                                                                        \n",
       "1998-05-26 1998-05-26   Tuesday    NaN      NaN  1110.469971  1116.790039   \n",
       "1998-05-27 1998-05-27   Tuesday    NaN      NaN  1094.020020  1094.439941   \n",
       "1998-05-28 1998-05-28   Tuesday    NaN      NaN  1092.229980  1099.729980   \n",
       "1998-05-29 1998-05-29   Tuesday    NaN      NaN  1097.599976  1104.160034   \n",
       "1998-06-01 1998-06-01   Tuesday    NaN      NaN  1090.819946  1097.849976   \n",
       "\n",
       "                    Low        Close    Adj Close     Volume  \\\n",
       "Date                                                           \n",
       "1998-05-26  1094.010010  1094.020020  1094.020020  541410000   \n",
       "1998-05-27  1074.390015  1092.229980  1092.229980  682040000   \n",
       "1998-05-28  1089.060059  1097.599976  1097.599976  588900000   \n",
       "1998-05-29  1090.819946  1090.819946  1090.819946  556780000   \n",
       "1998-06-01  1084.219971  1090.979980  1090.979980  537660000   \n",
       "\n",
       "            Change_from_Open  Change_from_Prev_Close  \\\n",
       "Date                                                   \n",
       "1998-05-26               NaN                     NaN   \n",
       "1998-05-27               NaN                     NaN   \n",
       "1998-05-28               NaN                     NaN   \n",
       "1998-05-29               NaN                     NaN   \n",
       "1998-06-01               NaN                     NaN   \n",
       "\n",
       "            Change_from_prev_percentage  \n",
       "Date                                     \n",
       "1998-05-26                          NaN  \n",
       "1998-05-27                          NaN  \n",
       "1998-05-28                          NaN  \n",
       "1998-05-29                          NaN  \n",
       "1998-06-01                          NaN  "
      ]
     },
     "execution_count": 26,
     "metadata": {},
     "output_type": "execute_result"
    }
   ],
   "source": [
    "new_columns = ['Date', 'DayOfWeek', 'Month', 'Quarter', 'Open', 'High', 'Low', 'Close', 'Adj Close', 'Volume',\n",
    "       'Change_from_Open', 'Change_from_Prev_Close',\n",
    "       'Change_from_prev_percentage']\n",
    "\n",
    "df = df.reindex(columns=new_columns)\n",
    "df.head()"
   ]
  },
  {
   "cell_type": "markdown",
   "metadata": {},
   "source": [
    " ### 5 Groupby operations:\n",
    " \n",
    " https://pandas.pydata.org/pandas-docs/stable/reference/api/pandas.DataFrame.groupby.html\n",
    " \n",
    " "
   ]
  },
  {
   "cell_type": "code",
   "execution_count": null,
   "metadata": {},
   "outputs": [],
   "source": [
    "# Say we want to find sum of changes per day:\n",
    "# note: I am not sure this is the best application of groupby\n",
    "\n",
    "\n",
    "# Try functions: mean, median, sum, max, min\n",
    "df.groupby([\"DayOfWeek\"])[\"Change_from_prev_percentage\"].sum()"
   ]
  },
  {
   "cell_type": "code",
   "execution_count": null,
   "metadata": {},
   "outputs": [],
   "source": [
    "# Let's see how much the index changed for every month since June 1998\n",
    "# Possible exercise:\n",
    "\n",
    "df[\"Year\"] = df[\"Date\"].dt.year\n",
    "df"
   ]
  },
  {
   "cell_type": "code",
   "execution_count": null,
   "metadata": {},
   "outputs": [],
   "source": [
    "# Let's aggregate the percetnage, but let's average the open, close, and let's take the max and min for high and low\n",
    "\n",
    "df_agg = df.groupby([\"Year\", \"Month\"]).agg({\"Change_from_prev_percentage\": sum, \n",
    "                                            \"Open\": pd.Series.mean, \n",
    "                                           \"Close\": pd.Series.mean,\n",
    "                                           \"High\": pd.Series.max,\n",
    "                                           \"Low\": pd.Series.min})\n",
    "\n",
    "df_agg"
   ]
  },
  {
   "cell_type": "code",
   "execution_count": null,
   "metadata": {},
   "outputs": [],
   "source": [
    "# Let's attempt to sort by Month name:\n",
    "\n",
    "df_agg.sort_values(\"Month\")\n",
    "\n",
    "# Clearly that is not helpful, it sorted by month alphabetical name instead of month order. For that we need to \n",
    "# add a column with the month number"
   ]
  },
  {
   "cell_type": "code",
   "execution_count": null,
   "metadata": {},
   "outputs": [],
   "source": [
    "# Let's add the month number to the original DF and re-aggregate:\n",
    "df[\"MonthNum\"] = df[\"Date\"].dt.month\n",
    "\n",
    "df_agg = df.groupby([\"Year\", \"MonthNum\"]).agg({\"Change_from_prev_percentage\": sum, \n",
    "                                            \"Open\": pd.Series.mean, \n",
    "                                           \"Close\": pd.Series.mean,\n",
    "                                           \"High\": pd.Series.max,\n",
    "                                           \"Low\": pd.Series.min})\n",
    "\n",
    "\n",
    "df_agg.sort_values([\"Year\", \"MonthNum\"])"
   ]
  },
  {
   "cell_type": "code",
   "execution_count": null,
   "metadata": {},
   "outputs": [],
   "source": [
    "# Note that this summing of percentage change is not excatly the same as taking percetnage change from start of month\n",
    "# to end of month. Why?"
   ]
  },
  {
   "cell_type": "markdown",
   "metadata": {},
   "source": [
    "### 6 Boolean Selection\n",
    "\n",
    "We can select rows that meet certain criteria, say we just want to look at the days where the index moved by 2% or more:\n",
    "\n"
   ]
  },
  {
   "cell_type": "code",
   "execution_count": null,
   "metadata": {},
   "outputs": [],
   "source": [
    "df[df[\"Change_from_prev_percentage\"]>= 2]\n",
    "\n",
    "#But hold on! This only gives us the days with 2% or more increase"
   ]
  },
  {
   "cell_type": "code",
   "execution_count": null,
   "metadata": {},
   "outputs": [],
   "source": [
    "# we can define a complex condition and store it in a separate variable so the whole expression\n",
    "# is more readable:\n",
    "\n",
    "cond = (df[\"Change_from_prev_percentage\"]>= 3.0) | (df[\"Change_from_prev_percentage\"] <= -3.0)\n",
    "\n",
    "# or,we could use the abs operator abs(df[\"Change_from_prev_percentage\"])\n",
    "\n",
    "# !! IMPORTANT NOTE: while Python usually accepts and, or. Pandas requires bitwise operators |, &\n",
    "\n",
    "# !! Also important for composite consditions: paranthesis\n",
    "\n",
    "df[cond]"
   ]
  },
  {
   "cell_type": "code",
   "execution_count": null,
   "metadata": {},
   "outputs": [],
   "source": [
    "# Of couse we can make the conditions as complicated as we want:\n",
    "\n",
    "cond = ( ((df[\"Change_from_prev_percentage\"]>= 2.0) \n",
    "        | \n",
    "        (df[\"Change_from_prev_percentage\"] <= -2.0)) \n",
    "        & (df[\"DayOfWeek\"] == \"Monday\"))\n",
    "\n",
    "df[cond]\n",
    "\n",
    "# Pay special attention to the bracketing in such cases- show some example where\n",
    "# change in bracketing change meaning\n",
    "        "
   ]
  },
  {
   "cell_type": "markdown",
   "metadata": {},
   "source": [
    "### 7 Basic Plotting and Visualization"
   ]
  },
  {
   "cell_type": "code",
   "execution_count": null,
   "metadata": {},
   "outputs": [],
   "source": [
    "#ToDo:\n",
    "\n",
    "# Make sorting a separate section\n",
    "# Sorting by multiple values\n",
    "# Missing Values\n",
    "# Reindexing\n",
    "# Filtering the rows\n",
    "# Saving the frame\n",
    "# Plotting\n",
    "# pivot tables\n",
    "# merge join concat\n",
    "# numpy/scipy"
   ]
  }
 ],
 "metadata": {
  "kernelspec": {
   "display_name": "Python 3",
   "language": "python",
   "name": "python3"
  },
  "language_info": {
   "codemirror_mode": {
    "name": "ipython",
    "version": 3
   },
   "file_extension": ".py",
   "mimetype": "text/x-python",
   "name": "python",
   "nbconvert_exporter": "python",
   "pygments_lexer": "ipython3",
   "version": "3.6.2"
  }
 },
 "nbformat": 4,
 "nbformat_minor": 2
}
